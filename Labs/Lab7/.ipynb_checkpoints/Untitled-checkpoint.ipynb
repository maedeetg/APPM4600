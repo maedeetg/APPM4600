{
 "cells": [
  {
   "cell_type": "markdown",
   "id": "84aa266c-ef2e-4d25-a470-f81e53a0724b",
   "metadata": {},
   "source": [
    "# Lab 7\n",
    "\n",
    "### Pre-lab\n",
    "\n",
    "We have the points ${(x_j, f(x_j))}$ for for $j = 0, 1, ..., n$. \n",
    "\n",
    "We have the polynomial $p_{n}(x) = a_0 + a_1x + a_2x^2 + ... + a_nx^n$\n",
    "\n",
    "To create the linear system in order to find the coefficients, we create `n+1` polynomials, where we plug in each $x_j$ into $p_{n}(x)$\n",
    "\n",
    "So, we have\n",
    "\n",
    "* $p_{n}(x_1) = a_0 + a_1x_1 + a_2x_1^2 + \\dots + a_nx_1^n$\n",
    "\n",
    "* $p_{n}(x_2) = a_0 + a_1x_2 + a_2x_2^2 + \\dots + a_nx_2^n$\n",
    "\n",
    "...\n",
    "\n",
    "* $p_{n}(x_n) = a_0 + a_1x_n + a_2x_n^2 + \\dots + a_nx_n^n$\n",
    "\n",
    "We can write the linear system as\n",
    "\n",
    "\\begin{equation}\n",
    "p_n = \n",
    "\\begin{bmatrix} \n",
    "    p_{n}(x_1) & p_{n}(x_2) & \\dots & p_{n}(x_n)\n",
    "\\end(bmatrix) \n",
    "\\end{equation}\n",
    "\n",
    "$$\n",
    "\\begin{bmatrix} \n",
    "    1 & x_1 & \\dots & x_1 \\\\ \n",
    "    1 & x_2 & \\dots & x_2 \\\\ \n",
    "    \\vdots & \\vdots & \\dots & \\vdots \\\\ \n",
    "    1 & x_n & \\dots & x_n \\\\ \n",
    "\\end(bmatrix) \n",
    "$$\n",
    "\n",
    "$$\n",
    "a = \n",
    "\\begin{bmatrix} \n",
    "    a_0 & a_1 & \\dots & a_n \\\\ \n",
    "\\end(bmatrix) \n",
    "$$\n",
    "\n",
    "Where $p_n = Xa$\n",
    "\n",
    "To solve for the $a$ vectors, we need to invert $X$. \n",
    "\n"
   ]
  },
  {
   "cell_type": "code",
   "execution_count": null,
   "id": "66d3a838-0192-41b2-ba65-3ac57a385c70",
   "metadata": {},
   "outputs": [],
   "source": []
  }
 ],
 "metadata": {
  "kernelspec": {
   "display_name": "Python 3 (ipykernel)",
   "language": "python",
   "name": "python3"
  },
  "language_info": {
   "codemirror_mode": {
    "name": "ipython",
    "version": 3
   },
   "file_extension": ".py",
   "mimetype": "text/x-python",
   "name": "python",
   "nbconvert_exporter": "python",
   "pygments_lexer": "ipython3",
   "version": "3.9.12"
  }
 },
 "nbformat": 4,
 "nbformat_minor": 5
}
